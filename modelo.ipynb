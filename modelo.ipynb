{
 "cells": [
  {
   "cell_type": "code",
   "execution_count": 10,
   "metadata": {},
   "outputs": [],
   "source": [
    "import numpy as np\n",
    "\n",
    "PERIOD_LENGTH = 6 # numero de horas de cada periodo\n",
    "N_PERIODS_YEAR = int((24/PERIOD_LENGTH) * 365) # numero de periodos per year\n",
    "\n",
    "# conjunto _i\n",
    "sources = ['solar', 'wind', 'hydroelectric', 'nuclear', 'gas', 'coal', 'oil']\n",
    "# conjunto _t\n",
    "periods = [i for i in range(N_PERIODS_YEAR)]\n",
    "\n",
    "# valor por kWh en el mercado promedio en pesos\n",
    "kwh_price_mean = 87.55 \n",
    "# valor por kWh en chile en pesos\n",
    "kwh_price_chile = 135\n",
    "\n",
    "# parametro CI_i costo inicial por kW de capacidad\n",
    "overnight_cost = {\n",
    "    'solar': [1331, 1313, 1100],\n",
    "    'wind': [1100, 1500, 1319],\n",
    "    'hydroelectric': [5316, 1750, 7500, 3500],\n",
    "    'nuclear': [6041, 6317, 6900, 12000],\n",
    "    'gas': [950, 713, 1084, 1300],\n",
    "    'coal': [3000, 6250, 5876, 3676],\n",
    "    'oil': [1170, 1175, 713],\n",
    "    }\n",
    "\n",
    "# modelaremos ocupando la media en casos donde hayan mas de un dato\n",
    "overnight_cost_mean = {\n",
    "    key:np.mean(value) for key, value in  zip(overnight_cost.keys(), \n",
    "                                              overnight_cost.values())\n",
    "}\n",
    "    \n",
    "# parametro C_i costo de produccion por kWh\n",
    "production_cost = {\n",
    "    'solar': [0.17, 0.136],\n",
    "    'wind': [0.3, 0.32],\n",
    "    'hydroelectric': 0.5,\n",
    "    'nuclear': [2.10, 1.38, 1.6],\n",
    "    'gas': [2.1],\n",
    "    'coal': [0.98, 1.4, 1.73],\n",
    "    'oil': [5.4, 7.01, 5.63],\n",
    "}\n",
    "\n",
    "# al igual que el costo inicial, ocuparemos la media\n",
    "production_cost_mean = {\n",
    "    key:np.mean(value) for key, value in zip(production_cost.keys(),\n",
    "                                            production_cost.values())\n",
    "}\n",
    "\n",
    "# parametro Z_i contaminacion por produccion\n",
    "tonnes_CO2_per_GWh = {\n",
    "    'solar': 85,\n",
    "    'wind': 26,\n",
    "    'hydroelectric': 26,\n",
    "    'nuclear': 29,\n",
    "    'gas': 499,\n",
    "    'coal': 888,\n",
    "    'oil': 733,\n",
    "    }\n",
    "\n",
    "# costo por kW de capacidad de las baterias\n",
    "price_per_kw_storage = [1389, 845, 1383]"
   ]
  },
  {
   "cell_type": "code",
   "execution_count": 11,
   "metadata": {},
   "outputs": [
    {
     "name": "stdout",
     "output_type": "stream",
     "text": [
      "{'solar': 1248.0, 'wind': 1306.3333333333333, 'hydroelectric': 4516.5, 'nuclear': 7814.5, 'gas': 1011.75, 'coal': 4700.5, 'oil': 1019.3333333333334}\n",
      "\n",
      "{'solar': 0.15300000000000002, 'wind': 0.31, 'hydroelectric': 0.5, 'nuclear': 1.6933333333333334, 'gas': 2.1, 'coal': 1.3699999999999999, 'oil': 6.013333333333333}\n"
     ]
    }
   ],
   "source": [
    "print(overnight_cost_mean)\n",
    "print('')\n",
    "print(production_cost_mean)"
   ]
  },
  {
   "cell_type": "code",
   "execution_count": null,
   "metadata": {},
   "outputs": [],
   "source": []
  }
 ],
 "metadata": {
  "kernelspec": {
   "display_name": "Python 3",
   "language": "python",
   "name": "python3"
  },
  "language_info": {
   "codemirror_mode": {
    "name": "ipython",
    "version": 3
   },
   "file_extension": ".py",
   "mimetype": "text/x-python",
   "name": "python",
   "nbconvert_exporter": "python",
   "pygments_lexer": "ipython3",
   "version": "3.6.9"
  }
 },
 "nbformat": 4,
 "nbformat_minor": 4
}
