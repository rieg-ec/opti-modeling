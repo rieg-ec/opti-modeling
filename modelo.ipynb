{
 "cells": [
  {
   "cell_type": "code",
   "execution_count": 1,
   "metadata": {},
   "outputs": [],
   "source": [
    "import numpy as np\n",
    "import random\n",
    "from data import Synthesize\n",
    "\n",
    "PERIOD_LENGTH = 6 # numero de horas de cada periodo\n",
    "N_PERIODS_YEAR = int((24/PERIOD_LENGTH) * 365) # numero de periodos per year\n",
    "\n",
    "# conjuntos\n",
    "sources = ['solar', 'wind', 'hydroelectric', 'nuclear', 'gas', 'coal', 'oil'] # conjunto _i\n",
    "periods = [i for i in range(1, N_PERIODS_YEAR+1)] # conjunto _t\n",
    "\n",
    "# parametros constantes\n",
    "budget = 7000000000000 # presupuesto en dolares\n",
    "\n",
    "years_return = 250 # cantidad de anos en los que se espera recuperar la inversion inicial\n",
    "\n",
    "demand = Synthesize().synthesize_data(N_PERIODS_YEAR) # diccionario tipo {periodo:demanda}\n",
    "\n",
    "battery_cost = 103240 # costo por bateria en dolares AC\n",
    "battery_capacity = 232 # capacidad de almacenamiento en kWh por bateria AQ\n",
    "battery_efficiency = 0.87 # eficiencia de energia de las baterias AE\n",
    "pollution_per_battery = 46400 # kgs de CO2 emitidos por bateria producida AZ\n",
    "\n",
    "kwh_price_mean = 0.1 # valor por kWh en el mercado promedio en dolares\n",
    "kwh_price_chile = 0.16 # valor por kWh en chile en dolares\n",
    "\n",
    "# parametro CI_i costo inicial por kW de capacidad en dolares\n",
    "overnight_cost = {\n",
    "    'solar': [1331, 1313, 1100],\n",
    "    'wind': [1100, 1500, 1319],\n",
    "    'hydroelectric': [5316, 1750, 7500, 3500],\n",
    "    'nuclear': [6041, 6317, 6900, 12000],\n",
    "    'gas': [950, 713, 1084, 1300],\n",
    "    'coal': [3000, 6250, 5876, 3676],\n",
    "    'oil': [1170, 1175, 713],\n",
    "    }\n",
    "\n",
    "# modelaremos ocupando la media en casos donde hayan mas de un dato\n",
    "overnight_cost_mean = {\n",
    "    key:np.mean(value) for key, value in  zip(overnight_cost.keys(), \n",
    "                                              overnight_cost.values())\n",
    "}\n",
    "    \n",
    "# parametro C_i costo de produccion por kWh en dolares\n",
    "production_cost = {\n",
    "    'solar': [0.0017, 0.00136],\n",
    "    'wind': [0.003, 0.0032],\n",
    "    'hydroelectric': [0.005],\n",
    "    'nuclear': [0.0210, 0.0138, 0.016],\n",
    "    'gas': [0.021],\n",
    "    'coal': [0.0098, 0.014, 0.0173],\n",
    "    'oil': [0.054, 0.0701, 0.0563],\n",
    "}\n",
    "\n",
    "# al igual que el costo inicial, ocuparemos la media\n",
    "production_cost_mean = {\n",
    "    key:np.mean(value) for key, value in zip(production_cost.keys(),\n",
    "                                            production_cost.values())\n",
    "}\n",
    "\n",
    "# kg de CO2 emitidos por producir un kWh Z_i\n",
    "kg_CO2_per_kwh = {\n",
    "    'solar': 0.085,\n",
    "    'wind': 0.026,\n",
    "    'hydroelectric': 0.026,\n",
    "    'nuclear': 0.029,\n",
    "    'gas': 0.499,\n",
    "    'coal': 0.888,\n",
    "    'oil': 0.733,\n",
    "    }\n",
    "\n",
    "# to-do: cantidad maxima disponible para instalaciones QM_i\n",
    "prod_units_limit = {source:limit for source, \n",
    "                    limit in zip(sources, np.array([random.randint(10000000, 20000000) for _ in \n",
    "                                                                                range(len(sources))]))}"
   ]
  },
  {
   "cell_type": "code",
   "execution_count": 2,
   "metadata": {},
   "outputs": [
    {
     "name": "stdout",
     "output_type": "stream",
     "text": [
      "Using license file /home/rieg/gurobi.lic\n",
      "Academic license - for non-commercial use only\n"
     ]
    }
   ],
   "source": [
    "from gurobipy import GRB, Model, quicksum\n",
    "\n",
    "model = Model('Energy production planning')\n",
    "\n",
    "prod_units = model.addVars(sources, vtype=GRB.INTEGER, name='prod_units')\n",
    "storage = model.addVar(vtype=GRB.INTEGER, name='storage')\n",
    "output = model.addVars(periods, sources, vtype=GRB.CONTINUOUS, name='output')\n",
    "stored = model.addVars(periods, vtype=GRB.CONTINUOUS, name='stored')\n",
    "\n",
    "model.update()"
   ]
  },
  {
   "cell_type": "code",
   "execution_count": 3,
   "metadata": {},
   "outputs": [
    {
     "data": {
      "text/plain": [
       "{(0, 1): <gurobi.Constr *Awaiting Model Update*>}"
      ]
     },
     "execution_count": 3,
     "metadata": {},
     "output_type": "execute_result"
    }
   ],
   "source": [
    "initial_investment = quicksum(prod_units[source] * overnight_cost_mean[source] for source in sources)\n",
    "\n",
    "# restriccion 1: inversion inicial menor o igual a presupuesto\n",
    "model.addConstr(initial_investment <= budget)\n",
    "\n",
    "# restriccion 2: recuperacion de inversion (el presupuesto dividido en la cantidad de anos nos indica\n",
    "# cuanto debemos recuperar cada ano)\n",
    "revenue = quicksum(output[period, source] * (kwh_price_mean - production_cost_mean[source]) \\\n",
    "                     for source in sources for period in periods)\n",
    "# revenue es lo que se vende multiplicado por el precio menos el costo variable\n",
    "model.addConstr(revenue - (storage * battery_cost / years_return) -\\\n",
    "                (initial_investment / years_return) >= (budget/years_return))\n",
    "\n",
    "# restriccion 3: satisfaccion de demanda y flujo\n",
    "model.addConstrs(stored[period] == quicksum(output[period, source] for source in sources) - demand[period] + \\\n",
    "                                            (stored[period - 1] * battery_efficiency) \\\n",
    "                                                for idx, period in enumerate(periods) if idx != 0)\n",
    "\n",
    "# restriccion 4: produccion de energia limitada\n",
    "model.addConstrs(output[period, source] <= prod_units[source] * PERIOD_LENGTH for source in sources\n",
    "                                                                                for period in periods)\n",
    "# restriccion 5: cantidad de instalaciones limitadas \n",
    "model.addConstrs(prod_units[source] <= prod_units_limit[source] for source in sources)\n",
    "\n",
    "# restriccion 6: cantidad maxima de almacenamiento\n",
    "model.addConstrs(stored[period] <= storage * battery_capacity for period in periods)\n",
    "\n",
    "# Naturaleza de las variables\n",
    "# restriccion 7:\n",
    "model.addConstrs(output[period, source] >= 0 for source in sources for period in periods)\n",
    "# restriccion 8:\n",
    "model.addConstrs(prod_units[source] >= 0 for source in sources)\n",
    "# restriccion 9:\n",
    "model.addConstr(storage >= 0)\n",
    "# restriccion 10 y 11:\n",
    "model.addConstrs(stored[period] >= 0 for idx, period in enumerate(periods) if idx != 0)\n",
    "model.addConstrs(stored[period] == 0 for idx, period in enumerate(periods) if idx == 0)"
   ]
  },
  {
   "cell_type": "code",
   "execution_count": 4,
   "metadata": {},
   "outputs": [],
   "source": [
    "obj = quicksum(output[period, source] * kg_CO2_per_kwh[source]\\\n",
    "               for source in sources for period in periods) + storage * pollution_per_battery"
   ]
  },
  {
   "cell_type": "code",
   "execution_count": 5,
   "metadata": {},
   "outputs": [
    {
     "name": "stdout",
     "output_type": "stream",
     "text": [
      "Gurobi Optimizer version 9.0.2 build v9.0.2rc0 (linux64)\n",
      "Optimize a model with 24836 rows, 11688 columns and 58421 nonzeros\n",
      "Model fingerprint: 0x210691e4\n",
      "Variable types: 11680 continuous, 8 integer (0 binary)\n",
      "Coefficient statistics:\n",
      "  Matrix range     [4e-02, 8e+03]\n",
      "  Objective range  [3e-02, 5e+04]\n",
      "  Bounds range     [0e+00, 0e+00]\n",
      "  RHS range        [1e+07, 7e+12]\n",
      "Warning: Model contains large rhs\n",
      "         Consider reformulating model or setting NumericFocus parameter\n",
      "         to avoid numerical issues.\n",
      "Presolve removed 11698 rows and 2 columns\n",
      "Presolve time: 0.03s\n",
      "Presolved: 13138 rows, 11686 columns, 46714 nonzeros\n",
      "Variable types: 11678 continuous, 8 integer (0 binary)\n",
      "\n",
      "Root relaxation: objective 3.543038e+11, 6911 iterations, 1.31 seconds\n",
      "\n",
      "    Nodes    |    Current Node    |     Objective Bounds      |     Work\n",
      " Expl Unexpl |  Obj  Depth IntInf | Incumbent    BestBd   Gap | It/Node Time\n",
      "\n",
      "     0     0 3.5430e+11    0    2          - 3.5430e+11      -     -    1s\n",
      "H    0     0                    9.391134e+11 3.5430e+11  62.3%     -    1s\n",
      "     0     0 3.5430e+11    0    2 9.3911e+11 3.5430e+11  62.3%     -    1s\n",
      "H    0     0                    3.543038e+11 3.5430e+11  0.00%     -    2s\n",
      "\n",
      "Explored 1 nodes (6911 simplex iterations) in 2.01 seconds\n",
      "Thread count was 6 (of 6 available processors)\n",
      "\n",
      "Solution count 2: 3.54304e+11 9.39113e+11 \n",
      "\n",
      "Optimal solution found (tolerance 1.00e-04)\n",
      "Best objective 3.543037780727e+11, best bound 3.543037737380e+11, gap 0.0000%\n",
      "\n",
      "---------------------\n",
      "\n"
     ]
    }
   ],
   "source": [
    "model.setObjective(obj, GRB.MINIMIZE)\n",
    "\n",
    "model.optimize()\n",
    "print('\\n---------------------\\n')\n",
    "\n",
    "with open('slack.text', 'w') as file:\n",
    "    for constr in model.getConstrs():\n",
    "        file.writelines(f\"{constr}: {constr.getAttr('slack')}\\n\")\n",
    "    file.close()\n",
    "    \n",
    "model.write('model.sol')"
   ]
  },
  {
   "cell_type": "code",
   "execution_count": null,
   "metadata": {},
   "outputs": [],
   "source": []
  },
  {
   "cell_type": "code",
   "execution_count": 6,
   "metadata": {},
   "outputs": [],
   "source": [
    "if model.status == GRB.INFEASIBLE:\n",
    "    model.computeIIS()\n",
    "    model.write(\"model.ilp\")\n",
    "    model.feasRelaxS(1, False, False, True)\n",
    "    model.optimize()"
   ]
  },
  {
   "cell_type": "code",
   "execution_count": null,
   "metadata": {},
   "outputs": [],
   "source": []
  }
 ],
 "metadata": {
  "kernelspec": {
   "display_name": "Python 3",
   "language": "python",
   "name": "python3"
  },
  "language_info": {
   "codemirror_mode": {
    "name": "ipython",
    "version": 3
   },
   "file_extension": ".py",
   "mimetype": "text/x-python",
   "name": "python",
   "nbconvert_exporter": "python",
   "pygments_lexer": "ipython3",
   "version": "3.6.9"
  }
 },
 "nbformat": 4,
 "nbformat_minor": 4
}
